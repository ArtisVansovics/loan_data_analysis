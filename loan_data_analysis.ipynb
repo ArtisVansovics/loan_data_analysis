{
  "nbformat": 4,
  "nbformat_minor": 0,
  "metadata": {
    "colab": {
      "name": "loan-data-analysis",
      "provenance": [],
      "collapsed_sections": [],
      "toc_visible": true,
      "authorship_tag": "ABX9TyMnfVhlWRaDsZkE7rcOYN1/",
      "include_colab_link": true
    },
    "kernelspec": {
      "name": "python3",
      "display_name": "Python 3"
    },
    "language_info": {
      "name": "python"
    }
  },
  "cells": [
    {
      "cell_type": "markdown",
      "metadata": {
        "id": "view-in-github",
        "colab_type": "text"
      },
      "source": [
        "<a href=\"https://colab.research.google.com/github/ArtisVansovics/loan_data_analysis/blob/main/loan_data_analysis.ipynb\" target=\"_parent\"><img src=\"https://colab.research.google.com/assets/colab-badge.svg\" alt=\"Open In Colab\"/></a>"
      ]
    },
    {
      "cell_type": "markdown",
      "source": [
        "# Loan Application Risk Assesment"
      ],
      "metadata": {
        "id": "3zYL7-qboFK9"
      }
    },
    {
      "cell_type": "markdown",
      "source": [
        "## Introduction\n",
        "A data set of 10 000 historical loan application samples is provided. By using the data set a classification model is built in order to predict, if a new client will default or pay back the loan.\n",
        "\n",
        "The target variable for the model is *First Payment Delay 30 days* (**fdp30**). Value of 1 means that the client defaulted, by not being able to pay back the loan in less than 30 days from the designated loan repayment period. O means that the client was able to repay the loan in time."
      ],
      "metadata": {
        "id": "OVkj0GV6l2W_"
      }
    },
    {
      "cell_type": "markdown",
      "source": [
        "## Loading the data"
      ],
      "metadata": {
        "id": "7aUpj8Erq0-C"
      }
    },
    {
      "cell_type": "code",
      "source": [
        "import numpy as np\n",
        "import pandas as pd\n",
        "import os\n",
        "\n",
        "\n",
        "# Imports to set up plotting\n",
        "import matplotlib.pyplot as plt\n",
        "import seaborn as sns\n",
        "# Graphics in retina format are more sharp and legible\n",
        "%config InlineBackend.figure_format = 'retina'\n",
        "\n",
        "# Precision of printed numerical values of the Pandas data frame\n",
        "pd.set_option(\"display.precision\", 2)"
      ],
      "metadata": {
        "id": "MBlDAD8_qYNy"
      },
      "execution_count": 24,
      "outputs": []
    },
    {
      "cell_type": "code",
      "source": [
        "# Uploading initial data set\n",
        "\n",
        "from google.colab import files\n",
        "\n",
        "uploaded = files.upload()\n",
        "\n",
        "for fn in uploaded.keys():\n",
        "  print('User uploaded file \"{name}\" with length {length} bytes'.format(\n",
        "      name=fn, length=len(uploaded[fn])))"
      ],
      "metadata": {
        "colab": {
          "base_uri": "https://localhost:8080/",
          "height": 91,
          "resources": {
            "http://localhost:8080/nbextensions/google.colab/files.js": {
              "data": "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",
              "ok": true,
              "headers": [
                [
                  "content-type",
                  "application/javascript"
                ]
              ],
              "status": 200,
              "status_text": "OK"
            }
          }
        },
        "id": "j86vTIg5TmBc",
        "outputId": "0fc629f4-3572-4e81-f669-be9f9661b999"
      },
      "execution_count": 3,
      "outputs": [
        {
          "output_type": "display_data",
          "data": {
            "text/plain": [
              "<IPython.core.display.HTML object>"
            ],
            "text/html": [
              "\n",
              "     <input type=\"file\" id=\"files-5f6d6191-3685-4fe8-b865-006540964644\" name=\"files[]\" multiple disabled\n",
              "        style=\"border:none\" />\n",
              "     <output id=\"result-5f6d6191-3685-4fe8-b865-006540964644\">\n",
              "      Upload widget is only available when the cell has been executed in the\n",
              "      current browser session. Please rerun this cell to enable.\n",
              "      </output>\n",
              "      <script src=\"/nbextensions/google.colab/files.js\"></script> "
            ]
          },
          "metadata": {}
        },
        {
          "output_type": "stream",
          "name": "stdout",
          "text": [
            "Saving all_data_set.csv to all_data_set.csv\n",
            "User uploaded file \"all_data_set.csv\" with length 4850772 bytes\n"
          ]
        }
      ]
    },
    {
      "cell_type": "code",
      "source": [
        "# Saving initial data set as a Pandas DataFrame\n",
        "\n",
        "data_folder = './data/'\n",
        "csv_name = 'all_data_set.csv'\n",
        "\n",
        "df = pd.read_csv(f\"{data_folder}{csv_name}\")"
      ],
      "metadata": {
        "id": "u7bhhIIJoCbK"
      },
      "execution_count": 4,
      "outputs": []
    },
    {
      "cell_type": "markdown",
      "source": [
        "## Checking the data"
      ],
      "metadata": {
        "id": "W9hbhA6ArwJs"
      }
    },
    {
      "cell_type": "markdown",
      "source": [
        "### Taking a look at the data"
      ],
      "metadata": {
        "id": "j-xZfGjysSOi"
      }
    },
    {
      "cell_type": "code",
      "source": [
        "df.head()"
      ],
      "metadata": {
        "colab": {
          "base_uri": "https://localhost:8080/",
          "height": 386
        },
        "id": "zPUwKpXbrOzN",
        "outputId": "68fd7e7c-18b9-420f-ffee-d808d0c45aaa"
      },
      "execution_count": 6,
      "outputs": [
        {
          "output_type": "execute_result",
          "data": {
            "text/plain": [
              "   r_application_id             app_date  amount  original_amount  term  \\\n",
              "0            233991  2018-03-26 13:11:58  1000.0           1000.0    30   \n",
              "1            234008  2018-03-26 13:26:38  1500.0           2500.0    30   \n",
              "2            234010  2018-03-26 13:27:51   300.0           1000.0    30   \n",
              "3            234155  2018-03-26 15:47:22  1500.0           2500.0    30   \n",
              "4            234006  2018-03-26 13:24:59   400.0            400.0    30   \n",
              "\n",
              "   original_term  commission_charged  gender         dob           email  ...  \\\n",
              "0             30                 250       0  1988-10-25      test@wp.pl  ...   \n",
              "1             30                 375       0  1975-11-22      test@wp.pl  ...   \n",
              "2             30                  75       1  1995-04-04  test@gmail.com  ...   \n",
              "3             30                 375       1  1983-12-12      test@vp.pl  ...   \n",
              "4             30                 100       1  1992-03-10    test@onet.pl  ...   \n",
              "\n",
              "  provider_5_device_os  provider_5_device_screen  provider_5_device_type  \\\n",
              "0       WINDOWS NT 6.1                 1024X1280                 WINDOWS   \n",
              "1      WINDOWS NT 10.0                  768X1366                 WINDOWS   \n",
              "2       WINDOWS NT 6.1                 1080X1920                 WINDOWS   \n",
              "3        ANDROID 6.0.1                   640X360                 ANDROID   \n",
              "4          ANDROID 7.0                   640X360                 ANDROID   \n",
              "\n",
              "   provider_5_rule_zero  provider_5_rule_one  provider_5_rule_two  \\\n",
              "0                   NaN                  NaN                  NaN   \n",
              "1                   NaN                  NaN                  NaN   \n",
              "2                   NaN                  NaN                  NaN   \n",
              "3                   NaN                  NaN                  NaN   \n",
              "4                   NaN                  NaN                  NaN   \n",
              "\n",
              "   provider_5_rule_three  credit_limit new_income  new_liabilities  \n",
              "0                    NaN        1000.0     2200.0            200.0  \n",
              "1                    NaN        1500.0     5800.0            600.0  \n",
              "2                    NaN         300.0     2350.0            300.0  \n",
              "3                    NaN        1500.0     2600.0           1000.0  \n",
              "4                    NaN        1000.0     2100.0            300.0  \n",
              "\n",
              "[5 rows x 84 columns]"
            ],
            "text/html": [
              "\n",
              "  <div id=\"df-32373b9f-2d22-49b7-953e-283389f9aba9\">\n",
              "    <div class=\"colab-df-container\">\n",
              "      <div>\n",
              "<style scoped>\n",
              "    .dataframe tbody tr th:only-of-type {\n",
              "        vertical-align: middle;\n",
              "    }\n",
              "\n",
              "    .dataframe tbody tr th {\n",
              "        vertical-align: top;\n",
              "    }\n",
              "\n",
              "    .dataframe thead th {\n",
              "        text-align: right;\n",
              "    }\n",
              "</style>\n",
              "<table border=\"1\" class=\"dataframe\">\n",
              "  <thead>\n",
              "    <tr style=\"text-align: right;\">\n",
              "      <th></th>\n",
              "      <th>r_application_id</th>\n",
              "      <th>app_date</th>\n",
              "      <th>amount</th>\n",
              "      <th>original_amount</th>\n",
              "      <th>term</th>\n",
              "      <th>original_term</th>\n",
              "      <th>commission_charged</th>\n",
              "      <th>gender</th>\n",
              "      <th>dob</th>\n",
              "      <th>email</th>\n",
              "      <th>...</th>\n",
              "      <th>provider_5_device_os</th>\n",
              "      <th>provider_5_device_screen</th>\n",
              "      <th>provider_5_device_type</th>\n",
              "      <th>provider_5_rule_zero</th>\n",
              "      <th>provider_5_rule_one</th>\n",
              "      <th>provider_5_rule_two</th>\n",
              "      <th>provider_5_rule_three</th>\n",
              "      <th>credit_limit</th>\n",
              "      <th>new_income</th>\n",
              "      <th>new_liabilities</th>\n",
              "    </tr>\n",
              "  </thead>\n",
              "  <tbody>\n",
              "    <tr>\n",
              "      <th>0</th>\n",
              "      <td>233991</td>\n",
              "      <td>2018-03-26 13:11:58</td>\n",
              "      <td>1000.0</td>\n",
              "      <td>1000.0</td>\n",
              "      <td>30</td>\n",
              "      <td>30</td>\n",
              "      <td>250</td>\n",
              "      <td>0</td>\n",
              "      <td>1988-10-25</td>\n",
              "      <td>test@wp.pl</td>\n",
              "      <td>...</td>\n",
              "      <td>WINDOWS NT 6.1</td>\n",
              "      <td>1024X1280</td>\n",
              "      <td>WINDOWS</td>\n",
              "      <td>NaN</td>\n",
              "      <td>NaN</td>\n",
              "      <td>NaN</td>\n",
              "      <td>NaN</td>\n",
              "      <td>1000.0</td>\n",
              "      <td>2200.0</td>\n",
              "      <td>200.0</td>\n",
              "    </tr>\n",
              "    <tr>\n",
              "      <th>1</th>\n",
              "      <td>234008</td>\n",
              "      <td>2018-03-26 13:26:38</td>\n",
              "      <td>1500.0</td>\n",
              "      <td>2500.0</td>\n",
              "      <td>30</td>\n",
              "      <td>30</td>\n",
              "      <td>375</td>\n",
              "      <td>0</td>\n",
              "      <td>1975-11-22</td>\n",
              "      <td>test@wp.pl</td>\n",
              "      <td>...</td>\n",
              "      <td>WINDOWS NT 10.0</td>\n",
              "      <td>768X1366</td>\n",
              "      <td>WINDOWS</td>\n",
              "      <td>NaN</td>\n",
              "      <td>NaN</td>\n",
              "      <td>NaN</td>\n",
              "      <td>NaN</td>\n",
              "      <td>1500.0</td>\n",
              "      <td>5800.0</td>\n",
              "      <td>600.0</td>\n",
              "    </tr>\n",
              "    <tr>\n",
              "      <th>2</th>\n",
              "      <td>234010</td>\n",
              "      <td>2018-03-26 13:27:51</td>\n",
              "      <td>300.0</td>\n",
              "      <td>1000.0</td>\n",
              "      <td>30</td>\n",
              "      <td>30</td>\n",
              "      <td>75</td>\n",
              "      <td>1</td>\n",
              "      <td>1995-04-04</td>\n",
              "      <td>test@gmail.com</td>\n",
              "      <td>...</td>\n",
              "      <td>WINDOWS NT 6.1</td>\n",
              "      <td>1080X1920</td>\n",
              "      <td>WINDOWS</td>\n",
              "      <td>NaN</td>\n",
              "      <td>NaN</td>\n",
              "      <td>NaN</td>\n",
              "      <td>NaN</td>\n",
              "      <td>300.0</td>\n",
              "      <td>2350.0</td>\n",
              "      <td>300.0</td>\n",
              "    </tr>\n",
              "    <tr>\n",
              "      <th>3</th>\n",
              "      <td>234155</td>\n",
              "      <td>2018-03-26 15:47:22</td>\n",
              "      <td>1500.0</td>\n",
              "      <td>2500.0</td>\n",
              "      <td>30</td>\n",
              "      <td>30</td>\n",
              "      <td>375</td>\n",
              "      <td>1</td>\n",
              "      <td>1983-12-12</td>\n",
              "      <td>test@vp.pl</td>\n",
              "      <td>...</td>\n",
              "      <td>ANDROID 6.0.1</td>\n",
              "      <td>640X360</td>\n",
              "      <td>ANDROID</td>\n",
              "      <td>NaN</td>\n",
              "      <td>NaN</td>\n",
              "      <td>NaN</td>\n",
              "      <td>NaN</td>\n",
              "      <td>1500.0</td>\n",
              "      <td>2600.0</td>\n",
              "      <td>1000.0</td>\n",
              "    </tr>\n",
              "    <tr>\n",
              "      <th>4</th>\n",
              "      <td>234006</td>\n",
              "      <td>2018-03-26 13:24:59</td>\n",
              "      <td>400.0</td>\n",
              "      <td>400.0</td>\n",
              "      <td>30</td>\n",
              "      <td>30</td>\n",
              "      <td>100</td>\n",
              "      <td>1</td>\n",
              "      <td>1992-03-10</td>\n",
              "      <td>test@onet.pl</td>\n",
              "      <td>...</td>\n",
              "      <td>ANDROID 7.0</td>\n",
              "      <td>640X360</td>\n",
              "      <td>ANDROID</td>\n",
              "      <td>NaN</td>\n",
              "      <td>NaN</td>\n",
              "      <td>NaN</td>\n",
              "      <td>NaN</td>\n",
              "      <td>1000.0</td>\n",
              "      <td>2100.0</td>\n",
              "      <td>300.0</td>\n",
              "    </tr>\n",
              "  </tbody>\n",
              "</table>\n",
              "<p>5 rows × 84 columns</p>\n",
              "</div>\n",
              "      <button class=\"colab-df-convert\" onclick=\"convertToInteractive('df-32373b9f-2d22-49b7-953e-283389f9aba9')\"\n",
              "              title=\"Convert this dataframe to an interactive table.\"\n",
              "              style=\"display:none;\">\n",
              "        \n",
              "  <svg xmlns=\"http://www.w3.org/2000/svg\" height=\"24px\"viewBox=\"0 0 24 24\"\n",
              "       width=\"24px\">\n",
              "    <path d=\"M0 0h24v24H0V0z\" fill=\"none\"/>\n",
              "    <path d=\"M18.56 5.44l.94 2.06.94-2.06 2.06-.94-2.06-.94-.94-2.06-.94 2.06-2.06.94zm-11 1L8.5 8.5l.94-2.06 2.06-.94-2.06-.94L8.5 2.5l-.94 2.06-2.06.94zm10 10l.94 2.06.94-2.06 2.06-.94-2.06-.94-.94-2.06-.94 2.06-2.06.94z\"/><path d=\"M17.41 7.96l-1.37-1.37c-.4-.4-.92-.59-1.43-.59-.52 0-1.04.2-1.43.59L10.3 9.45l-7.72 7.72c-.78.78-.78 2.05 0 2.83L4 21.41c.39.39.9.59 1.41.59.51 0 1.02-.2 1.41-.59l7.78-7.78 2.81-2.81c.8-.78.8-2.07 0-2.86zM5.41 20L4 18.59l7.72-7.72 1.47 1.35L5.41 20z\"/>\n",
              "  </svg>\n",
              "      </button>\n",
              "      \n",
              "  <style>\n",
              "    .colab-df-container {\n",
              "      display:flex;\n",
              "      flex-wrap:wrap;\n",
              "      gap: 12px;\n",
              "    }\n",
              "\n",
              "    .colab-df-convert {\n",
              "      background-color: #E8F0FE;\n",
              "      border: none;\n",
              "      border-radius: 50%;\n",
              "      cursor: pointer;\n",
              "      display: none;\n",
              "      fill: #1967D2;\n",
              "      height: 32px;\n",
              "      padding: 0 0 0 0;\n",
              "      width: 32px;\n",
              "    }\n",
              "\n",
              "    .colab-df-convert:hover {\n",
              "      background-color: #E2EBFA;\n",
              "      box-shadow: 0px 1px 2px rgba(60, 64, 67, 0.3), 0px 1px 3px 1px rgba(60, 64, 67, 0.15);\n",
              "      fill: #174EA6;\n",
              "    }\n",
              "\n",
              "    [theme=dark] .colab-df-convert {\n",
              "      background-color: #3B4455;\n",
              "      fill: #D2E3FC;\n",
              "    }\n",
              "\n",
              "    [theme=dark] .colab-df-convert:hover {\n",
              "      background-color: #434B5C;\n",
              "      box-shadow: 0px 1px 3px 1px rgba(0, 0, 0, 0.15);\n",
              "      filter: drop-shadow(0px 1px 2px rgba(0, 0, 0, 0.3));\n",
              "      fill: #FFFFFF;\n",
              "    }\n",
              "  </style>\n",
              "\n",
              "      <script>\n",
              "        const buttonEl =\n",
              "          document.querySelector('#df-32373b9f-2d22-49b7-953e-283389f9aba9 button.colab-df-convert');\n",
              "        buttonEl.style.display =\n",
              "          google.colab.kernel.accessAllowed ? 'block' : 'none';\n",
              "\n",
              "        async function convertToInteractive(key) {\n",
              "          const element = document.querySelector('#df-32373b9f-2d22-49b7-953e-283389f9aba9');\n",
              "          const dataTable =\n",
              "            await google.colab.kernel.invokeFunction('convertToInteractive',\n",
              "                                                     [key], {});\n",
              "          if (!dataTable) return;\n",
              "\n",
              "          const docLinkHtml = 'Like what you see? Visit the ' +\n",
              "            '<a target=\"_blank\" href=https://colab.research.google.com/notebooks/data_table.ipynb>data table notebook</a>'\n",
              "            + ' to learn more about interactive tables.';\n",
              "          element.innerHTML = '';\n",
              "          dataTable['output_type'] = 'display_data';\n",
              "          await google.colab.output.renderOutput(dataTable, element);\n",
              "          const docLink = document.createElement('div');\n",
              "          docLink.innerHTML = docLinkHtml;\n",
              "          element.appendChild(docLink);\n",
              "        }\n",
              "      </script>\n",
              "    </div>\n",
              "  </div>\n",
              "  "
            ]
          },
          "metadata": {},
          "execution_count": 6
        }
      ]
    },
    {
      "cell_type": "markdown",
      "source": [
        "General information on the data points, including the amount of entries, the data types and how many entries for each data point are not null:"
      ],
      "metadata": {
        "id": "7AEMR2HusnSi"
      }
    },
    {
      "cell_type": "code",
      "source": [
        "df.info()"
      ],
      "metadata": {
        "colab": {
          "base_uri": "https://localhost:8080/"
        },
        "id": "pekjVlmtl5Sp",
        "outputId": "39bae8dc-52fd-4c09-e596-7c3e578ad5e6"
      },
      "execution_count": 46,
      "outputs": [
        {
          "output_type": "stream",
          "name": "stdout",
          "text": [
            "<class 'pandas.core.frame.DataFrame'>\n",
            "RangeIndex: 10000 entries, 0 to 9999\n",
            "Data columns (total 84 columns):\n",
            " #   Column                                    Non-Null Count  Dtype  \n",
            "---  ------                                    --------------  -----  \n",
            " 0   r_application_id                          10000 non-null  int64  \n",
            " 1   app_date                                  10000 non-null  object \n",
            " 2   amount                                    10000 non-null  float64\n",
            " 3   original_amount                           10000 non-null  float64\n",
            " 4   term                                      10000 non-null  int64  \n",
            " 5   original_term                             10000 non-null  int64  \n",
            " 6   commission_charged                        10000 non-null  int64  \n",
            " 7   gender                                    10000 non-null  int64  \n",
            " 8   dob                                       10000 non-null  object \n",
            " 9   email                                     10000 non-null  object \n",
            " 10  employment_status                         10000 non-null  object \n",
            " 11  accept_marketing                          10000 non-null  bool   \n",
            " 12  ignore_communication                      10000 non-null  bool   \n",
            " 13  rejected_applications                     10000 non-null  int64  \n",
            " 14  provider_1_current_debt_total             9997 non-null   float64\n",
            " 15  provider_1_sum_rejected_apps              9856 non-null   float64\n",
            " 16  provider_1_avg_rejected_apps              9856 non-null   float64\n",
            " 17  provider_1_count_providers                9999 non-null   float64\n",
            " 18  provider_1_first_seen                     9856 non-null   object \n",
            " 19  provider_1_confirmed_accounts             9999 non-null   float64\n",
            " 20  provider_1_nonconfirmed_accounts          9999 non-null   float64\n",
            " 21  provider_1_sum_current_debt               9856 non-null   float64\n",
            " 22  provider_1_avg_current_actual_debt        3573 non-null   float64\n",
            " 23  provider_1_avg_current_debt               9856 non-null   float64\n",
            " 24  provider_1_max_current_debt               9856 non-null   float64\n",
            " 25  provider_1_avg_max_delay                  9856 non-null   float64\n",
            " 26  provider_1_max_delay                      9856 non-null   float64\n",
            " 27  provider_1_total_extensions               9856 non-null   float64\n",
            " 28  provider_1_max_extensions                 9856 non-null   float64\n",
            " 29  provider_1_avg_extensions                 9856 non-null   float64\n",
            " 30  provider_1_last_loan_created              6373 non-null   object \n",
            " 31  provider_1_closed_late_debts_count        9856 non-null   float64\n",
            " 32  provider_1_closed_late_amount_sum         9856 non-null   float64\n",
            " 33  provider_1_unapproved_applications_count  9856 non-null   float64\n",
            " 34  provider_1_late_debt_count                9856 non-null   float64\n",
            " 35  provider_1_late_debt_sum                  9856 non-null   float64\n",
            " 36  provider_1_loans_ever_count               9856 non-null   float64\n",
            " 37  provider_1_loans_ever_sum                 9856 non-null   float64\n",
            " 38  provider_1_avg_loan_amount_ever           9856 non-null   float64\n",
            " 39  provider_1_sum_current_delay              9856 non-null   float64\n",
            " 40  provider_1_avg_current_delay              9856 non-null   float64\n",
            " 41  provider_1_max_current_delay              9856 non-null   float64\n",
            " 42  provider_1_max_previous_delay             9856 non-null   float64\n",
            " 43  provider_1_current_loans_count            9856 non-null   float64\n",
            " 44  provider_2_positive_supplier_count        9999 non-null   float64\n",
            " 45  provider_2_negative_count                 9999 non-null   float64\n",
            " 46  provider_2_positive_count                 9999 non-null   float64\n",
            " 47  provider_2_total_debt                     9999 non-null   float64\n",
            " 48  provider_3_debitors_count                 9999 non-null   float64\n",
            " 49  provider_3_creditors_count                9999 non-null   float64\n",
            " 50  provider_3_total_arrears                  9999 non-null   float64\n",
            " 51  provider_3_count_paid_debt                9022 non-null   float64\n",
            " 52  provider_3_sum_paid_debt_amt              9022 non-null   float64\n",
            " 53  provider_3_max_paid_debt_amt              9022 non-null   float64\n",
            " 54  provider_3_last_paid_debt_date            9022 non-null   object \n",
            " 55  provider_3_last_paid_debt_delay           9022 non-null   float64\n",
            " 56  provider_3_max_delay                      9022 non-null   float64\n",
            " 57  provider_3_providers_count                9999 non-null   float64\n",
            " 58  provider_3_paid_obligations_count         9999 non-null   float64\n",
            " 59  provider_3_average_paid_debt              9999 non-null   float64\n",
            " 60  provider_3_average_payment_time_in_days   9999 non-null   float64\n",
            " 61  provider_3_sum_paid_debt                  9999 non-null   float64\n",
            " 62  provider_4_neg_loan_overdue_sum           9999 non-null   float64\n",
            " 63  provider_4_pos_loan_count                 9988 non-null   float64\n",
            " 64  provider_4_pos_paid_sum                   9988 non-null   float64\n",
            " 65  fpd30                                     10000 non-null  int64  \n",
            " 66  identified_by_provider_6                  10000 non-null  bool   \n",
            " 67  provider_5_device_bb_age                  9724 non-null   float64\n",
            " 68  provider_5_device_browser_charset         17 non-null     object \n",
            " 69  provider_5_device_browser_lang            9722 non-null   object \n",
            " 70  provider_5_device_browser_type            9723 non-null   object \n",
            " 71  provider_5_device_cookie_enabled          9724 non-null   float64\n",
            " 72  provider_5_device_firstseen               9724 non-null   object \n",
            " 73  provider_5_device_new                     9724 non-null   float64\n",
            " 74  provider_5_device_os                      9724 non-null   object \n",
            " 75  provider_5_device_screen                  9724 non-null   object \n",
            " 76  provider_5_device_type                    9724 non-null   object \n",
            " 77  provider_5_rule_zero                      105 non-null    float64\n",
            " 78  provider_5_rule_one                       0 non-null      float64\n",
            " 79  provider_5_rule_two                       0 non-null      float64\n",
            " 80  provider_5_rule_three                     0 non-null      float64\n",
            " 81  credit_limit                              10000 non-null  float64\n",
            " 82  new_income                                10000 non-null  float64\n",
            " 83  new_liabilities                           9997 non-null   float64\n",
            "dtypes: bool(3), float64(60), int64(7), object(14)\n",
            "memory usage: 6.2+ MB\n"
          ]
        }
      ]
    },
    {
      "cell_type": "markdown",
      "source": [
        "### Distribution of defaults"
      ],
      "metadata": {
        "id": "tyIhfHIAvNHD"
      }
    },
    {
      "cell_type": "code",
      "source": [
        "fdp30 = pd.DataFrame(df['fpd30'].value_counts())\n",
        "fdp30"
      ],
      "metadata": {
        "colab": {
          "base_uri": "https://localhost:8080/",
          "height": 112
        },
        "id": "2nPSanhV4kfy",
        "outputId": "61a2cec3-ec9c-4657-e297-4c56aa6ab482"
      },
      "execution_count": 49,
      "outputs": [
        {
          "output_type": "execute_result",
          "data": {
            "text/plain": [
              "   fpd30\n",
              "0   8206\n",
              "1   1794"
            ],
            "text/html": [
              "\n",
              "  <div id=\"df-fc7ca6d0-3388-4d27-82cc-5b96462fd251\">\n",
              "    <div class=\"colab-df-container\">\n",
              "      <div>\n",
              "<style scoped>\n",
              "    .dataframe tbody tr th:only-of-type {\n",
              "        vertical-align: middle;\n",
              "    }\n",
              "\n",
              "    .dataframe tbody tr th {\n",
              "        vertical-align: top;\n",
              "    }\n",
              "\n",
              "    .dataframe thead th {\n",
              "        text-align: right;\n",
              "    }\n",
              "</style>\n",
              "<table border=\"1\" class=\"dataframe\">\n",
              "  <thead>\n",
              "    <tr style=\"text-align: right;\">\n",
              "      <th></th>\n",
              "      <th>fpd30</th>\n",
              "    </tr>\n",
              "  </thead>\n",
              "  <tbody>\n",
              "    <tr>\n",
              "      <th>0</th>\n",
              "      <td>8206</td>\n",
              "    </tr>\n",
              "    <tr>\n",
              "      <th>1</th>\n",
              "      <td>1794</td>\n",
              "    </tr>\n",
              "  </tbody>\n",
              "</table>\n",
              "</div>\n",
              "      <button class=\"colab-df-convert\" onclick=\"convertToInteractive('df-fc7ca6d0-3388-4d27-82cc-5b96462fd251')\"\n",
              "              title=\"Convert this dataframe to an interactive table.\"\n",
              "              style=\"display:none;\">\n",
              "        \n",
              "  <svg xmlns=\"http://www.w3.org/2000/svg\" height=\"24px\"viewBox=\"0 0 24 24\"\n",
              "       width=\"24px\">\n",
              "    <path d=\"M0 0h24v24H0V0z\" fill=\"none\"/>\n",
              "    <path d=\"M18.56 5.44l.94 2.06.94-2.06 2.06-.94-2.06-.94-.94-2.06-.94 2.06-2.06.94zm-11 1L8.5 8.5l.94-2.06 2.06-.94-2.06-.94L8.5 2.5l-.94 2.06-2.06.94zm10 10l.94 2.06.94-2.06 2.06-.94-2.06-.94-.94-2.06-.94 2.06-2.06.94z\"/><path d=\"M17.41 7.96l-1.37-1.37c-.4-.4-.92-.59-1.43-.59-.52 0-1.04.2-1.43.59L10.3 9.45l-7.72 7.72c-.78.78-.78 2.05 0 2.83L4 21.41c.39.39.9.59 1.41.59.51 0 1.02-.2 1.41-.59l7.78-7.78 2.81-2.81c.8-.78.8-2.07 0-2.86zM5.41 20L4 18.59l7.72-7.72 1.47 1.35L5.41 20z\"/>\n",
              "  </svg>\n",
              "      </button>\n",
              "      \n",
              "  <style>\n",
              "    .colab-df-container {\n",
              "      display:flex;\n",
              "      flex-wrap:wrap;\n",
              "      gap: 12px;\n",
              "    }\n",
              "\n",
              "    .colab-df-convert {\n",
              "      background-color: #E8F0FE;\n",
              "      border: none;\n",
              "      border-radius: 50%;\n",
              "      cursor: pointer;\n",
              "      display: none;\n",
              "      fill: #1967D2;\n",
              "      height: 32px;\n",
              "      padding: 0 0 0 0;\n",
              "      width: 32px;\n",
              "    }\n",
              "\n",
              "    .colab-df-convert:hover {\n",
              "      background-color: #E2EBFA;\n",
              "      box-shadow: 0px 1px 2px rgba(60, 64, 67, 0.3), 0px 1px 3px 1px rgba(60, 64, 67, 0.15);\n",
              "      fill: #174EA6;\n",
              "    }\n",
              "\n",
              "    [theme=dark] .colab-df-convert {\n",
              "      background-color: #3B4455;\n",
              "      fill: #D2E3FC;\n",
              "    }\n",
              "\n",
              "    [theme=dark] .colab-df-convert:hover {\n",
              "      background-color: #434B5C;\n",
              "      box-shadow: 0px 1px 3px 1px rgba(0, 0, 0, 0.15);\n",
              "      filter: drop-shadow(0px 1px 2px rgba(0, 0, 0, 0.3));\n",
              "      fill: #FFFFFF;\n",
              "    }\n",
              "  </style>\n",
              "\n",
              "      <script>\n",
              "        const buttonEl =\n",
              "          document.querySelector('#df-fc7ca6d0-3388-4d27-82cc-5b96462fd251 button.colab-df-convert');\n",
              "        buttonEl.style.display =\n",
              "          google.colab.kernel.accessAllowed ? 'block' : 'none';\n",
              "\n",
              "        async function convertToInteractive(key) {\n",
              "          const element = document.querySelector('#df-fc7ca6d0-3388-4d27-82cc-5b96462fd251');\n",
              "          const dataTable =\n",
              "            await google.colab.kernel.invokeFunction('convertToInteractive',\n",
              "                                                     [key], {});\n",
              "          if (!dataTable) return;\n",
              "\n",
              "          const docLinkHtml = 'Like what you see? Visit the ' +\n",
              "            '<a target=\"_blank\" href=https://colab.research.google.com/notebooks/data_table.ipynb>data table notebook</a>'\n",
              "            + ' to learn more about interactive tables.';\n",
              "          element.innerHTML = '';\n",
              "          dataTable['output_type'] = 'display_data';\n",
              "          await google.colab.output.renderOutput(dataTable, element);\n",
              "          const docLink = document.createElement('div');\n",
              "          docLink.innerHTML = docLinkHtml;\n",
              "          element.appendChild(docLink);\n",
              "        }\n",
              "      </script>\n",
              "    </div>\n",
              "  </div>\n",
              "  "
            ]
          },
          "metadata": {},
          "execution_count": 49
        }
      ]
    },
    {
      "cell_type": "code",
      "source": [
        "round(df['fpd30'].mean()*100, 1)"
      ],
      "metadata": {
        "colab": {
          "base_uri": "https://localhost:8080/"
        },
        "id": "JSNmMPVFxUh8",
        "outputId": "c9f72dea-f17d-44a7-bc43-3382cdd6f9dc"
      },
      "execution_count": 22,
      "outputs": [
        {
          "output_type": "execute_result",
          "data": {
            "text/plain": [
              "17.9"
            ]
          },
          "metadata": {},
          "execution_count": 22
        }
      ]
    },
    {
      "cell_type": "code",
      "source": [
        "sns.countplot(x='fpd30', data=df)\n",
        "plt.title('Distribution of client defaults \\n (0: Repayed, 1: Defaulted)')\n",
        "plt.show()"
      ],
      "metadata": {
        "colab": {
          "base_uri": "https://localhost:8080/",
          "height": 308
        },
        "id": "_qFurFFr1M_r",
        "outputId": "74143700-b172-4a7d-faf7-c3f92597958d"
      },
      "execution_count": 47,
      "outputs": [
        {
          "output_type": "display_data",
          "data": {
            "text/plain": [
              "<Figure size 432x288 with 1 Axes>"
            ],
            "image/png": "[encoded data removed]"
          },
          "metadata": {
            "image/png": {
              "width": 395,
              "height": 291
            },
            "needs_background": "light"
          }
        }
      ]
    },
    {
      "cell_type": "markdown",
      "source": [
        "In total 1794 clients or 17.9% defaulted (fpd30 = 1), while 82.1% were able to pay back their loans."
      ],
      "metadata": {
        "id": "-Y53MRuKtsue"
      }
    }
  ]
}