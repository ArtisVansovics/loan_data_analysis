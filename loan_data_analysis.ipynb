{
  "nbformat": 4,
  "nbformat_minor": 0,
  "metadata": {
    "colab": {
      "name": "loan-data-analysis",
      "provenance": [],
      "collapsed_sections": [],
      "toc_visible": true,
      "mount_file_id": "1NwqKO6cNOI6J84fG7uYgGYWAxuKEmdqb",
      "authorship_tag": "ABX9TyNX5i7/Tt2QZULpHQI26muT",
      "include_colab_link": true
    },
    "kernelspec": {
      "name": "python3",
      "display_name": "Python 3"
    },
    "language_info": {
      "name": "python"
    }
  },
  "cells": [
    {
      "cell_type": "markdown",
      "metadata": {
        "id": "view-in-github",
        "colab_type": "text"
      },
      "source": [
        "<a href=\"https://colab.research.google.com/github/ArtisVansovics/loan_data_analysis/blob/main/loan_data_analysis.ipynb\" target=\"_parent\"><img src=\"https://colab.research.google.com/assets/colab-badge.svg\" alt=\"Open In Colab\"/></a>"
      ]
    },
    {
      "cell_type": "markdown",
      "source": [
        "# Loan Application Risk Assesment"
      ],
      "metadata": {
        "id": "3zYL7-qboFK9"
      }
    },
    {
      "cell_type": "markdown",
      "source": [
        "## Introduction\n",
        "A data set of 10 000 historical loan application samples is provided. By using the data set a classification model is built in order to predict, if a new client will default or pay back the loan.\n",
        "\n",
        "The target variable for the model is *First Payment Delay 30 days* (**fdp30**). Value of 1 means that the client defaulted, by not being able to pay back the loan in less than 30 days from the designated loan repayment period. O means that the client was able to repay the loan in time."
      ],
      "metadata": {
        "id": "OVkj0GV6l2W_"
      }
    },
    {
      "cell_type": "markdown",
      "source": [
        "## Loading the data"
      ],
      "metadata": {
        "id": "7aUpj8Erq0-C"
      }
    },
    {
      "cell_type": "code",
      "source": [
        "import numpy as np\n",
        "import pandas as pd\n",
        "import os\n",
        "\n",
        "# Imports for Google Sheet access\n",
        "from google.colab import auth\n",
        "import gspread\n",
        "from google.auth import default\n",
        "\n",
        "# Imports to set up plotting\n",
        "import matplotlib.pyplot as plt\n",
        "import seaborn as sns\n",
        "\n",
        "# Loading graphics in retina format to make them more sharp and legible\n",
        "%config InlineBackend.figure_format = 'retina'\n",
        "\n",
        "# Precision of printed numerical values of the Pandas data frame\n",
        "pd.set_option(\"display.precision\", 2)"
      ],
      "metadata": {
        "id": "MBlDAD8_qYNy"
      },
      "execution_count": 1,
      "outputs": []
    },
    {
      "cell_type": "code",
      "source": [
        "# Loading initial data set\n",
        "auth.authenticate_user()\n",
        "creds, _ = default()\n",
        "gc = gspread.authorize(creds)\n",
        "worksheet = gc.open('all_data_set').sheet1\n",
        "# Saving initial data set as a Pandas DataFrame\n",
        "df = pd.DataFrame(worksheet.get_all_records())"
      ],
      "metadata": {
        "id": "gSJhIOW-1G3D"
      },
      "execution_count": 2,
      "outputs": []
    },
    {
      "cell_type": "markdown",
      "source": [
        "## Checking the data"
      ],
      "metadata": {
        "id": "W9hbhA6ArwJs"
      }
    },
    {
      "cell_type": "code",
      "source": [
        "df.head()"
      ],
      "metadata": {
        "colab": {
          "base_uri": "https://localhost:8080/",
          "height": 386
        },
        "id": "zPUwKpXbrOzN",
        "outputId": "e9451132-5891-4b8a-b27f-de937e2c40ca"
      },
      "execution_count": 6,
      "outputs": [
        {
          "output_type": "execute_result",
          "data": {
            "text/plain": [
              "   r_application_id             app_date  amount  original_amount  term  \\\n",
              "0            233991  2018-03-26 13:11:58  1000.0           1000.0    30   \n",
              "1            234008  2018-03-26 13:26:38  1500.0           2500.0    30   \n",
              "2            234010  2018-03-26 13:27:51   300.0           1000.0    30   \n",
              "3            234155  2018-03-26 15:47:22  1500.0           2500.0    30   \n",
              "4            234006  2018-03-26 13:24:59   400.0            400.0    30   \n",
              "\n",
              "   original_term  commission_charged  gender         dob           email  ...  \\\n",
              "0             30                 250       0  1988-10-25      test@wp.pl  ...   \n",
              "1             30                 375       0  1975-11-22      test@wp.pl  ...   \n",
              "2             30                  75       1  1995-04-04  test@gmail.com  ...   \n",
              "3             30                 375       1  1983-12-12      test@vp.pl  ...   \n",
              "4             30                 100       1  1992-03-10    test@onet.pl  ...   \n",
              "\n",
              "  provider_5_device_os provider_5_device_screen provider_5_device_type  \\\n",
              "0       WINDOWS NT 6.1                1024X1280                WINDOWS   \n",
              "1      WINDOWS NT 10.0                 768X1366                WINDOWS   \n",
              "2       WINDOWS NT 6.1                1080X1920                WINDOWS   \n",
              "3        ANDROID 6.0.1                  640X360                ANDROID   \n",
              "4          ANDROID 7.0                  640X360                ANDROID   \n",
              "\n",
              "   provider_5_rule_zero provider_5_rule_one provider_5_rule_two  \\\n",
              "0                                                                 \n",
              "1                                                                 \n",
              "2                                                                 \n",
              "3                                                                 \n",
              "4                                                                 \n",
              "\n",
              "  provider_5_rule_three credit_limit new_income new_liabilities  \n",
              "0                             1000.0     2200.0           200.0  \n",
              "1                             1500.0     5800.0           600.0  \n",
              "2                              300.0     2350.0           300.0  \n",
              "3                             1500.0     2600.0          1000.0  \n",
              "4                             1000.0     2100.0           300.0  \n",
              "\n",
              "[5 rows x 84 columns]"
            ],
            "text/html": [
              "\n",
              "  <div id=\"df-75e6ee8d-48b5-4cb2-bd6c-14b4718ea1a3\">\n",
              "    <div class=\"colab-df-container\">\n",
              "      <div>\n",
              "<style scoped>\n",
              "    .dataframe tbody tr th:only-of-type {\n",
              "        vertical-align: middle;\n",
              "    }\n",
              "\n",
              "    .dataframe tbody tr th {\n",
              "        vertical-align: top;\n",
              "    }\n",
              "\n",
              "    .dataframe thead th {\n",
              "        text-align: right;\n",
              "    }\n",
              "</style>\n",
              "<table border=\"1\" class=\"dataframe\">\n",
              "  <thead>\n",
              "    <tr style=\"text-align: right;\">\n",
              "      <th></th>\n",
              "      <th>r_application_id</th>\n",
              "      <th>app_date</th>\n",
              "      <th>amount</th>\n",
              "      <th>original_amount</th>\n",
              "      <th>term</th>\n",
              "      <th>original_term</th>\n",
              "      <th>commission_charged</th>\n",
              "      <th>gender</th>\n",
              "      <th>dob</th>\n",
              "      <th>email</th>\n",
              "      <th>...</th>\n",
              "      <th>provider_5_device_os</th>\n",
              "      <th>provider_5_device_screen</th>\n",
              "      <th>provider_5_device_type</th>\n",
              "      <th>provider_5_rule_zero</th>\n",
              "      <th>provider_5_rule_one</th>\n",
              "      <th>provider_5_rule_two</th>\n",
              "      <th>provider_5_rule_three</th>\n",
              "      <th>credit_limit</th>\n",
              "      <th>new_income</th>\n",
              "      <th>new_liabilities</th>\n",
              "    </tr>\n",
              "  </thead>\n",
              "  <tbody>\n",
              "    <tr>\n",
              "      <th>0</th>\n",
              "      <td>233991</td>\n",
              "      <td>2018-03-26 13:11:58</td>\n",
              "      <td>1000.0</td>\n",
              "      <td>1000.0</td>\n",
              "      <td>30</td>\n",
              "      <td>30</td>\n",
              "      <td>250</td>\n",
              "      <td>0</td>\n",
              "      <td>1988-10-25</td>\n",
              "      <td>test@wp.pl</td>\n",
              "      <td>...</td>\n",
              "      <td>WINDOWS NT 6.1</td>\n",
              "      <td>1024X1280</td>\n",
              "      <td>WINDOWS</td>\n",
              "      <td></td>\n",
              "      <td></td>\n",
              "      <td></td>\n",
              "      <td></td>\n",
              "      <td>1000.0</td>\n",
              "      <td>2200.0</td>\n",
              "      <td>200.0</td>\n",
              "    </tr>\n",
              "    <tr>\n",
              "      <th>1</th>\n",
              "      <td>234008</td>\n",
              "      <td>2018-03-26 13:26:38</td>\n",
              "      <td>1500.0</td>\n",
              "      <td>2500.0</td>\n",
              "      <td>30</td>\n",
              "      <td>30</td>\n",
              "      <td>375</td>\n",
              "      <td>0</td>\n",
              "      <td>1975-11-22</td>\n",
              "      <td>test@wp.pl</td>\n",
              "      <td>...</td>\n",
              "      <td>WINDOWS NT 10.0</td>\n",
              "      <td>768X1366</td>\n",
              "      <td>WINDOWS</td>\n",
              "      <td></td>\n",
              "      <td></td>\n",
              "      <td></td>\n",
              "      <td></td>\n",
              "      <td>1500.0</td>\n",
              "      <td>5800.0</td>\n",
              "      <td>600.0</td>\n",
              "    </tr>\n",
              "    <tr>\n",
              "      <th>2</th>\n",
              "      <td>234010</td>\n",
              "      <td>2018-03-26 13:27:51</td>\n",
              "      <td>300.0</td>\n",
              "      <td>1000.0</td>\n",
              "      <td>30</td>\n",
              "      <td>30</td>\n",
              "      <td>75</td>\n",
              "      <td>1</td>\n",
              "      <td>1995-04-04</td>\n",
              "      <td>test@gmail.com</td>\n",
              "      <td>...</td>\n",
              "      <td>WINDOWS NT 6.1</td>\n",
              "      <td>1080X1920</td>\n",
              "      <td>WINDOWS</td>\n",
              "      <td></td>\n",
              "      <td></td>\n",
              "      <td></td>\n",
              "      <td></td>\n",
              "      <td>300.0</td>\n",
              "      <td>2350.0</td>\n",
              "      <td>300.0</td>\n",
              "    </tr>\n",
              "    <tr>\n",
              "      <th>3</th>\n",
              "      <td>234155</td>\n",
              "      <td>2018-03-26 15:47:22</td>\n",
              "      <td>1500.0</td>\n",
              "      <td>2500.0</td>\n",
              "      <td>30</td>\n",
              "      <td>30</td>\n",
              "      <td>375</td>\n",
              "      <td>1</td>\n",
              "      <td>1983-12-12</td>\n",
              "      <td>test@vp.pl</td>\n",
              "      <td>...</td>\n",
              "      <td>ANDROID 6.0.1</td>\n",
              "      <td>640X360</td>\n",
              "      <td>ANDROID</td>\n",
              "      <td></td>\n",
              "      <td></td>\n",
              "      <td></td>\n",
              "      <td></td>\n",
              "      <td>1500.0</td>\n",
              "      <td>2600.0</td>\n",
              "      <td>1000.0</td>\n",
              "    </tr>\n",
              "    <tr>\n",
              "      <th>4</th>\n",
              "      <td>234006</td>\n",
              "      <td>2018-03-26 13:24:59</td>\n",
              "      <td>400.0</td>\n",
              "      <td>400.0</td>\n",
              "      <td>30</td>\n",
              "      <td>30</td>\n",
              "      <td>100</td>\n",
              "      <td>1</td>\n",
              "      <td>1992-03-10</td>\n",
              "      <td>test@onet.pl</td>\n",
              "      <td>...</td>\n",
              "      <td>ANDROID 7.0</td>\n",
              "      <td>640X360</td>\n",
              "      <td>ANDROID</td>\n",
              "      <td></td>\n",
              "      <td></td>\n",
              "      <td></td>\n",
              "      <td></td>\n",
              "      <td>1000.0</td>\n",
              "      <td>2100.0</td>\n",
              "      <td>300.0</td>\n",
              "    </tr>\n",
              "  </tbody>\n",
              "</table>\n",
              "<p>5 rows × 84 columns</p>\n",
              "</div>\n",
              "      <button class=\"colab-df-convert\" onclick=\"convertToInteractive('df-75e6ee8d-48b5-4cb2-bd6c-14b4718ea1a3')\"\n",
              "              title=\"Convert this dataframe to an interactive table.\"\n",
              "              style=\"display:none;\">\n",
              "        \n",
              "  <svg xmlns=\"http://www.w3.org/2000/svg\" height=\"24px\"viewBox=\"0 0 24 24\"\n",
              "       width=\"24px\">\n",
              "    <path d=\"M0 0h24v24H0V0z\" fill=\"none\"/>\n",
              "    <path d=\"M18.56 5.44l.94 2.06.94-2.06 2.06-.94-2.06-.94-.94-2.06-.94 2.06-2.06.94zm-11 1L8.5 8.5l.94-2.06 2.06-.94-2.06-.94L8.5 2.5l-.94 2.06-2.06.94zm10 10l.94 2.06.94-2.06 2.06-.94-2.06-.94-.94-2.06-.94 2.06-2.06.94z\"/><path d=\"M17.41 7.96l-1.37-1.37c-.4-.4-.92-.59-1.43-.59-.52 0-1.04.2-1.43.59L10.3 9.45l-7.72 7.72c-.78.78-.78 2.05 0 2.83L4 21.41c.39.39.9.59 1.41.59.51 0 1.02-.2 1.41-.59l7.78-7.78 2.81-2.81c.8-.78.8-2.07 0-2.86zM5.41 20L4 18.59l7.72-7.72 1.47 1.35L5.41 20z\"/>\n",
              "  </svg>\n",
              "      </button>\n",
              "      \n",
              "  <style>\n",
              "    .colab-df-container {\n",
              "      display:flex;\n",
              "      flex-wrap:wrap;\n",
              "      gap: 12px;\n",
              "    }\n",
              "\n",
              "    .colab-df-convert {\n",
              "      background-color: #E8F0FE;\n",
              "      border: none;\n",
              "      border-radius: 50%;\n",
              "      cursor: pointer;\n",
              "      display: none;\n",
              "      fill: #1967D2;\n",
              "      height: 32px;\n",
              "      padding: 0 0 0 0;\n",
              "      width: 32px;\n",
              "    }\n",
              "\n",
              "    .colab-df-convert:hover {\n",
              "      background-color: #E2EBFA;\n",
              "      box-shadow: 0px 1px 2px rgba(60, 64, 67, 0.3), 0px 1px 3px 1px rgba(60, 64, 67, 0.15);\n",
              "      fill: #174EA6;\n",
              "    }\n",
              "\n",
              "    [theme=dark] .colab-df-convert {\n",
              "      background-color: #3B4455;\n",
              "      fill: #D2E3FC;\n",
              "    }\n",
              "\n",
              "    [theme=dark] .colab-df-convert:hover {\n",
              "      background-color: #434B5C;\n",
              "      box-shadow: 0px 1px 3px 1px rgba(0, 0, 0, 0.15);\n",
              "      filter: drop-shadow(0px 1px 2px rgba(0, 0, 0, 0.3));\n",
              "      fill: #FFFFFF;\n",
              "    }\n",
              "  </style>\n",
              "\n",
              "      <script>\n",
              "        const buttonEl =\n",
              "          document.querySelector('#df-75e6ee8d-48b5-4cb2-bd6c-14b4718ea1a3 button.colab-df-convert');\n",
              "        buttonEl.style.display =\n",
              "          google.colab.kernel.accessAllowed ? 'block' : 'none';\n",
              "\n",
              "        async function convertToInteractive(key) {\n",
              "          const element = document.querySelector('#df-75e6ee8d-48b5-4cb2-bd6c-14b4718ea1a3');\n",
              "          const dataTable =\n",
              "            await google.colab.kernel.invokeFunction('convertToInteractive',\n",
              "                                                     [key], {});\n",
              "          if (!dataTable) return;\n",
              "\n",
              "          const docLinkHtml = 'Like what you see? Visit the ' +\n",
              "            '<a target=\"_blank\" href=https://colab.research.google.com/notebooks/data_table.ipynb>data table notebook</a>'\n",
              "            + ' to learn more about interactive tables.';\n",
              "          element.innerHTML = '';\n",
              "          dataTable['output_type'] = 'display_data';\n",
              "          await google.colab.output.renderOutput(dataTable, element);\n",
              "          const docLink = document.createElement('div');\n",
              "          docLink.innerHTML = docLinkHtml;\n",
              "          element.appendChild(docLink);\n",
              "        }\n",
              "      </script>\n",
              "    </div>\n",
              "  </div>\n",
              "  "
            ]
          },
          "metadata": {},
          "execution_count": 6
        }
      ]
    },
    {
      "cell_type": "code",
      "source": [
        "df.isnull().sum().max()"
      ],
      "metadata": {
        "id": "dwpirLcpr2n7",
        "outputId": "344961b9-79e5-48eb-b6ca-7b1d9cacf400",
        "colab": {
          "base_uri": "https://localhost:8080/"
        }
      },
      "execution_count": null,
      "outputs": [
        {
          "output_type": "execute_result",
          "data": {
            "text/plain": [
              "0"
            ]
          },
          "metadata": {},
          "execution_count": 100
        }
      ]
    },
    {
      "cell_type": "markdown",
      "source": [
        "There are no null values in the data set."
      ],
      "metadata": {
        "id": "Y8Trt-nLsWwp"
      }
    },
    {
      "cell_type": "code",
      "source": [
        "df.info()"
      ],
      "metadata": {
        "colab": {
          "base_uri": "https://localhost:8080/"
        },
        "id": "pekjVlmtl5Sp",
        "outputId": "20c88a24-43ef-4223-bdcd-c8ce6cb863ac"
      },
      "execution_count": null,
      "outputs": [
        {
          "output_type": "stream",
          "name": "stdout",
          "text": [
            "<class 'pandas.core.frame.DataFrame'>\n",
            "RangeIndex: 10000 entries, 0 to 9999\n",
            "Data columns (total 84 columns):\n",
            " #   Column                                    Non-Null Count  Dtype  \n",
            "---  ------                                    --------------  -----  \n",
            " 0   r_application_id                          10000 non-null  int64  \n",
            " 1   app_date                                  10000 non-null  object \n",
            " 2   amount                                    10000 non-null  float64\n",
            " 3   original_amount                           10000 non-null  float64\n",
            " 4   term                                      10000 non-null  int64  \n",
            " 5   original_term                             10000 non-null  int64  \n",
            " 6   commission_charged                        10000 non-null  int64  \n",
            " 7   gender                                    10000 non-null  int64  \n",
            " 8   dob                                       10000 non-null  object \n",
            " 9   email                                     10000 non-null  object \n",
            " 10  employment_status                         10000 non-null  object \n",
            " 11  accept_marketing                          10000 non-null  object \n",
            " 12  ignore_communication                      10000 non-null  object \n",
            " 13  rejected_applications                     10000 non-null  int64  \n",
            " 14  provider_1_current_debt_total             10000 non-null  object \n",
            " 15  provider_1_sum_rejected_apps              10000 non-null  object \n",
            " 16  provider_1_avg_rejected_apps              10000 non-null  object \n",
            " 17  provider_1_count_providers                10000 non-null  object \n",
            " 18  provider_1_first_seen                     10000 non-null  object \n",
            " 19  provider_1_confirmed_accounts             10000 non-null  object \n",
            " 20  provider_1_nonconfirmed_accounts          10000 non-null  object \n",
            " 21  provider_1_sum_current_debt               10000 non-null  object \n",
            " 22  provider_1_avg_current_actual_debt        10000 non-null  object \n",
            " 23  provider_1_avg_current_debt               10000 non-null  object \n",
            " 24  provider_1_max_current_debt               10000 non-null  object \n",
            " 25  provider_1_avg_max_delay                  10000 non-null  object \n",
            " 26  provider_1_max_delay                      10000 non-null  object \n",
            " 27  provider_1_total_extensions               10000 non-null  object \n",
            " 28  provider_1_max_extensions                 10000 non-null  object \n",
            " 29  provider_1_avg_extensions                 10000 non-null  object \n",
            " 30  provider_1_last_loan_created              10000 non-null  object \n",
            " 31  provider_1_closed_late_debts_count        10000 non-null  object \n",
            " 32  provider_1_closed_late_amount_sum         10000 non-null  object \n",
            " 33  provider_1_unapproved_applications_count  10000 non-null  object \n",
            " 34  provider_1_late_debt_count                10000 non-null  object \n",
            " 35  provider_1_late_debt_sum                  10000 non-null  object \n",
            " 36  provider_1_loans_ever_count               10000 non-null  object \n",
            " 37  provider_1_loans_ever_sum                 10000 non-null  object \n",
            " 38  provider_1_avg_loan_amount_ever           10000 non-null  object \n",
            " 39  provider_1_sum_current_delay              10000 non-null  object \n",
            " 40  provider_1_avg_current_delay              10000 non-null  object \n",
            " 41  provider_1_max_current_delay              10000 non-null  object \n",
            " 42  provider_1_max_previous_delay             10000 non-null  object \n",
            " 43  provider_1_current_loans_count            10000 non-null  object \n",
            " 44  provider_2_positive_supplier_count        10000 non-null  object \n",
            " 45  provider_2_negative_count                 10000 non-null  object \n",
            " 46  provider_2_positive_count                 10000 non-null  object \n",
            " 47  provider_2_total_debt                     10000 non-null  object \n",
            " 48  provider_3_debitors_count                 10000 non-null  object \n",
            " 49  provider_3_creditors_count                10000 non-null  object \n",
            " 50  provider_3_total_arrears                  10000 non-null  object \n",
            " 51  provider_3_count_paid_debt                10000 non-null  object \n",
            " 52  provider_3_sum_paid_debt_amt              10000 non-null  object \n",
            " 53  provider_3_max_paid_debt_amt              10000 non-null  object \n",
            " 54  provider_3_last_paid_debt_date            10000 non-null  object \n",
            " 55  provider_3_last_paid_debt_delay           10000 non-null  object \n",
            " 56  provider_3_max_delay                      10000 non-null  object \n",
            " 57  provider_3_providers_count                10000 non-null  object \n",
            " 58  provider_3_paid_obligations_count         10000 non-null  object \n",
            " 59  provider_3_average_paid_debt              10000 non-null  object \n",
            " 60  provider_3_average_payment_time_in_days   10000 non-null  object \n",
            " 61  provider_3_sum_paid_debt                  10000 non-null  object \n",
            " 62  provider_4_neg_loan_overdue_sum           10000 non-null  object \n",
            " 63  provider_4_pos_loan_count                 10000 non-null  object \n",
            " 64  provider_4_pos_paid_sum                   10000 non-null  object \n",
            " 65  fpd30                                     10000 non-null  int64  \n",
            " 66  identified_by_provider_6                  10000 non-null  object \n",
            " 67  provider_5_device_bb_age                  10000 non-null  object \n",
            " 68  provider_5_device_browser_charset         10000 non-null  object \n",
            " 69  provider_5_device_browser_lang            10000 non-null  object \n",
            " 70  provider_5_device_browser_type            10000 non-null  object \n",
            " 71  provider_5_device_cookie_enabled          10000 non-null  object \n",
            " 72  provider_5_device_firstseen               10000 non-null  object \n",
            " 73  provider_5_device_new                     10000 non-null  object \n",
            " 74  provider_5_device_os                      10000 non-null  object \n",
            " 75  provider_5_device_screen                  10000 non-null  object \n",
            " 76  provider_5_device_type                    10000 non-null  object \n",
            " 77  provider_5_rule_zero                      10000 non-null  object \n",
            " 78  provider_5_rule_one                       10000 non-null  object \n",
            " 79  provider_5_rule_two                       10000 non-null  object \n",
            " 80  provider_5_rule_three                     10000 non-null  object \n",
            " 81  credit_limit                              10000 non-null  float64\n",
            " 82  new_income                                10000 non-null  float64\n",
            " 83  new_liabilities                           10000 non-null  object \n",
            "dtypes: float64(4), int64(7), object(73)\n",
            "memory usage: 6.4+ MB\n"
          ]
        }
      ]
    },
    {
      "cell_type": "markdown",
      "source": [
        "There are 10 000 data entries and 84 data points."
      ],
      "metadata": {
        "id": "7AEMR2HusnSi"
      }
    },
    {
      "cell_type": "code",
      "source": [
        "df[df[\"fpd30\"] == 1].mean()"
      ],
      "metadata": {
        "colab": {
          "base_uri": "https://localhost:8080/"
        },
        "id": "VAo2HlaRkKGN",
        "outputId": "4669f8a4-fcda-450e-b195-8dab5fc1ed98"
      },
      "execution_count": null,
      "outputs": [
        {
          "output_type": "stream",
          "name": "stderr",
          "text": [
            "/usr/local/lib/python3.7/dist-packages/ipykernel_launcher.py:1: FutureWarning: Dropping of nuisance columns in DataFrame reductions (with 'numeric_only=None') is deprecated; in a future version this will raise TypeError.  Select only valid columns before calling the reduction.\n",
            "  \"\"\"Entry point for launching an IPython kernel.\n"
          ]
        },
        {
          "output_type": "execute_result",
          "data": {
            "text/plain": [
              "r_application_id                           233617.36\n",
              "amount                                        940.86\n",
              "original_amount                              1317.50\n",
              "term                                           29.78\n",
              "original_term                                  29.79\n",
              "commission_charged                            233.65\n",
              "gender                                          0.62\n",
              "rejected_applications                           0.65\n",
              "provider_1_count_providers                      4.05\n",
              "provider_1_confirmed_accounts                   3.34\n",
              "provider_1_nonconfirmed_accounts                0.71\n",
              "provider_2_positive_supplier_count              1.96\n",
              "provider_2_negative_count                       0.00\n",
              "provider_2_positive_count                       9.02\n",
              "provider_2_total_debt                           0.00\n",
              "provider_3_debitors_count                       0.00\n",
              "provider_3_creditors_count                      0.00\n",
              "provider_3_total_arrears                        0.00\n",
              "provider_3_providers_count                      1.48\n",
              "provider_3_paid_obligations_count               7.38\n",
              "provider_3_average_paid_debt                 1379.93\n",
              "provider_3_average_payment_time_in_days         3.32\n",
              "provider_3_sum_paid_debt                    15675.72\n",
              "provider_4_neg_loan_overdue_sum                 0.00\n",
              "fpd30                                           1.00\n",
              "credit_limit                                 1069.62\n",
              "new_income                                   2297.56\n",
              "new_liabilities                               591.48\n",
              "dtype: float64"
            ]
          },
          "metadata": {},
          "execution_count": 82
        }
      ]
    },
    {
      "cell_type": "code",
      "source": [
        "df[df[\"fpd30\"] == 0].mean()"
      ],
      "metadata": {
        "colab": {
          "base_uri": "https://localhost:8080/"
        },
        "id": "PZZam_QNlZn6",
        "outputId": "65e6d9fe-89d6-4e2f-aa58-ead5ebcd55b5"
      },
      "execution_count": null,
      "outputs": [
        {
          "output_type": "stream",
          "name": "stderr",
          "text": [
            "/usr/local/lib/python3.7/dist-packages/ipykernel_launcher.py:1: FutureWarning: Dropping of nuisance columns in DataFrame reductions (with 'numeric_only=None') is deprecated; in a future version this will raise TypeError.  Select only valid columns before calling the reduction.\n",
            "  \"\"\"Entry point for launching an IPython kernel.\n"
          ]
        },
        {
          "output_type": "execute_result",
          "data": {
            "text/plain": [
              "r_application_id         234679.27\n",
              "amount                      981.85\n",
              "original_amount            1320.40\n",
              "term                         29.38\n",
              "original_term                29.38\n",
              "commission_charged          243.14\n",
              "gender                        0.54\n",
              "rejected_applications         0.36\n",
              "fpd30                         0.00\n",
              "credit_limit               1191.13\n",
              "new_income                 2563.49\n",
              "dtype: float64"
            ]
          },
          "metadata": {},
          "execution_count": 90
        }
      ]
    },
    {
      "cell_type": "markdown",
      "source": [
        "## Exploring the data"
      ],
      "metadata": {
        "id": "eo-x9KWfPU58"
      }
    },
    {
      "cell_type": "markdown",
      "source": [
        "### Distribution of defaulted clients"
      ],
      "metadata": {
        "id": "tyIhfHIAvNHD"
      }
    },
    {
      "cell_type": "code",
      "source": [
        "s1 = df['fpd30'].value_counts()\n",
        "s2 = s1.div(100)\n",
        "df30 = pd.DataFrame(s1)\n",
        "df30.columns = ['count']\n",
        "df30['%'] = s2\n",
        "df30 = df30.style.set_caption('fdp30 counts')\n",
        "df30"
      ],
      "metadata": {
        "colab": {
          "base_uri": "https://localhost:8080/",
          "height": 129
        },
        "id": "2nPSanhV4kfy",
        "outputId": "49ef5a1c-d58b-4901-edfe-f6d2da6e4634"
      },
      "execution_count": 30,
      "outputs": [
        {
          "output_type": "execute_result",
          "data": {
            "text/plain": [
              "<pandas.io.formats.style.Styler at 0x7fbd2ac865d0>"
            ],
            "text/html": [
              "<style type=\"text/css\">\n",
              "</style>\n",
              "<table id=\"T_57b1e_\" class=\"dataframe\">\n",
              "  <caption>fdp30 counts</caption>\n",
              "  <thead>\n",
              "    <tr>\n",
              "      <th class=\"blank level0\" >&nbsp;</th>\n",
              "      <th class=\"col_heading level0 col0\" >count</th>\n",
              "      <th class=\"col_heading level0 col1\" >%</th>\n",
              "    </tr>\n",
              "  </thead>\n",
              "  <tbody>\n",
              "    <tr>\n",
              "      <th id=\"T_57b1e_level0_row0\" class=\"row_heading level0 row0\" >0</th>\n",
              "      <td id=\"T_57b1e_row0_col0\" class=\"data row0 col0\" >8206</td>\n",
              "      <td id=\"T_57b1e_row0_col1\" class=\"data row0 col1\" >82.06</td>\n",
              "    </tr>\n",
              "    <tr>\n",
              "      <th id=\"T_57b1e_level0_row1\" class=\"row_heading level0 row1\" >1</th>\n",
              "      <td id=\"T_57b1e_row1_col0\" class=\"data row1 col0\" >1794</td>\n",
              "      <td id=\"T_57b1e_row1_col1\" class=\"data row1 col1\" >17.94</td>\n",
              "    </tr>\n",
              "  </tbody>\n",
              "</table>\n"
            ]
          },
          "metadata": {},
          "execution_count": 30
        }
      ]
    },
    {
      "cell_type": "code",
      "source": [
        "sns.countplot(x='fpd30', data=df)\n",
        "plt.title('Distribution of client defaults \\n (0: Repayed, 1: Defaulted)')\n",
        "plt.show()"
      ],
      "metadata": {
        "colab": {
          "base_uri": "https://localhost:8080/",
          "height": 308
        },
        "id": "_qFurFFr1M_r",
        "outputId": "12b2b3f2-a138-425d-b56d-f58a3a32b29f"
      },
      "execution_count": 9,
      "outputs": [
        {
          "output_type": "display_data",
          "data": {
            "text/plain": [
              "<Figure size 432x288 with 1 Axes>"
            ],
            "image/png": "[encoded data removed]"
          },
          "metadata": {
            "image/png": {
              "width": 395,
              "height": 291
            },
            "needs_background": "light"
          }
        }
      ]
    },
    {
      "cell_type": "markdown",
      "source": [
        "In total 1794 clients or 17.9% defaulted (fpd30 = 1), while 82.1% were able to pay back their loans."
      ],
      "metadata": {
        "id": "-Y53MRuKtsue"
      }
    },
    {
      "cell_type": "markdown",
      "source": [
        "### Loan amounts"
      ],
      "metadata": {
        "id": "P-ccDXDePdsQ"
      }
    },
    {
      "cell_type": "code",
      "source": [
        "fig, ax = plt.subplots(1, 2, figsize=(18,4))\n",
        "\n",
        "amount_value = df['amount'].values\n",
        "orig_amount_value = df['original_amount'].values\n",
        "\n",
        "sns.histplot(amount_value, ax=ax[0], color='b')\n",
        "ax[0].set_title('Distribution of Loan Amounts', fontsize=16)\n",
        "ax[0].set_xlim([min(amount_value), max(amount_value)])\n",
        "\n",
        "sns.histplot(orig_amount_value, ax=ax[1], color='g')\n",
        "ax[1].set_title('Distribution of Requested Loan Amounts', fontsize=16)\n",
        "ax[1].set_xlim([min(orig_amount_value), max(orig_amount_value)])\n",
        "\n",
        "plt.show()"
      ],
      "metadata": {
        "colab": {
          "base_uri": "https://localhost:8080/",
          "height": 283
        },
        "id": "DzOvYEJfPapv",
        "outputId": "5ef8f523-7b2a-474b-f0e6-d19376d9bd70"
      },
      "execution_count": 7,
      "outputs": [
        {
          "output_type": "display_data",
          "data": {
            "text/plain": [
              "<Figure size 1296x288 with 2 Axes>"
            ],
            "image/png": "[encoded data removed]"
          },
          "metadata": {
            "image/png": {
              "width": 1077,
              "height": 266
            },
            "needs_background": "light"
          }
        }
      ]
    },
    {
      "cell_type": "code",
      "source": [
        "fig, ax = plt.subplots(1, 2, figsize=(18,4))\n",
        "\n",
        "sns.countplot(y=\"amount\", hue=\"fpd30\", data=df, ax=ax[0]);\n",
        "ax[0].set_title('Distribution of Loan Amounts by Defaulted Clients', fontsize=16)\n",
        "\n",
        "sns.countplot(y=\"original_amount\", hue=\"fpd30\", data=df, ax=ax[1]);\n",
        "ax[1].set_title('Distribution of Requested Loan Amounts by Defaulted Clients', fontsize=16)\n",
        "\n",
        "plt.show()"
      ],
      "metadata": {
        "colab": {
          "base_uri": "https://localhost:8080/",
          "height": 296
        },
        "id": "cqQpcfOmk5Uz",
        "outputId": "99ab5189-a078-499e-cd82-be780a636ffa"
      },
      "execution_count": 11,
      "outputs": [
        {
          "output_type": "display_data",
          "data": {
            "text/plain": [
              "<Figure size 1296x288 with 2 Axes>"
            ],
            "image/png": "[encoded data removed]"
          },
          "metadata": {
            "image/png": {
              "width": 1110,
              "height": 279
            },
            "needs_background": "light"
          }
        }
      ]
    },
    {
      "cell_type": "markdown",
      "source": [
        "Distribution of loan amounts shows that most of the loans given are under 1600. In general, most people either received the smaller, 300 loan amount, a medium 1000 loan, or the 1500 loan, which is the most commmonly distributed loan amount. On the other hand, the most popular originally requested loan amount of 2500 has been approved to only a relatively small amount of clients as it also apears to be the largest approved amount."
      ],
      "metadata": {
        "id": "2tAcGilztldZ"
      }
    },
    {
      "cell_type": "markdown",
      "source": [
        "## Test"
      ],
      "metadata": {
        "id": "9UlyeN_1L0nw"
      }
    },
    {
      "cell_type": "code",
      "source": [
        "columns = ['amount', 'original_amount']\n",
        "\n",
        "df.groupby(df['fpd30'], as_index=False)[columns].count()"
      ],
      "metadata": {
        "colab": {
          "base_uri": "https://localhost:8080/",
          "height": 112
        },
        "id": "iZdMMFJvHhVY",
        "outputId": "055cc5ef-e8b5-444d-c114-c9b6a1fa8d1c"
      },
      "execution_count": 5,
      "outputs": [
        {
          "output_type": "execute_result",
          "data": {
            "text/plain": [
              "   fpd30  amount  original_amount\n",
              "0      0    8206             8206\n",
              "1      1    1794             1794"
            ],
            "text/html": [
              "\n",
              "  <div id=\"df-ed8e3fc6-136a-4dda-b93e-69dca52fee3a\">\n",
              "    <div class=\"colab-df-container\">\n",
              "      <div>\n",
              "<style scoped>\n",
              "    .dataframe tbody tr th:only-of-type {\n",
              "        vertical-align: middle;\n",
              "    }\n",
              "\n",
              "    .dataframe tbody tr th {\n",
              "        vertical-align: top;\n",
              "    }\n",
              "\n",
              "    .dataframe thead th {\n",
              "        text-align: right;\n",
              "    }\n",
              "</style>\n",
              "<table border=\"1\" class=\"dataframe\">\n",
              "  <thead>\n",
              "    <tr style=\"text-align: right;\">\n",
              "      <th></th>\n",
              "      <th>fpd30</th>\n",
              "      <th>amount</th>\n",
              "      <th>original_amount</th>\n",
              "    </tr>\n",
              "  </thead>\n",
              "  <tbody>\n",
              "    <tr>\n",
              "      <th>0</th>\n",
              "      <td>0</td>\n",
              "      <td>8206</td>\n",
              "      <td>8206</td>\n",
              "    </tr>\n",
              "    <tr>\n",
              "      <th>1</th>\n",
              "      <td>1</td>\n",
              "      <td>1794</td>\n",
              "      <td>1794</td>\n",
              "    </tr>\n",
              "  </tbody>\n",
              "</table>\n",
              "</div>\n",
              "      <button class=\"colab-df-convert\" onclick=\"convertToInteractive('df-ed8e3fc6-136a-4dda-b93e-69dca52fee3a')\"\n",
              "              title=\"Convert this dataframe to an interactive table.\"\n",
              "              style=\"display:none;\">\n",
              "        \n",
              "  <svg xmlns=\"http://www.w3.org/2000/svg\" height=\"24px\"viewBox=\"0 0 24 24\"\n",
              "       width=\"24px\">\n",
              "    <path d=\"M0 0h24v24H0V0z\" fill=\"none\"/>\n",
              "    <path d=\"M18.56 5.44l.94 2.06.94-2.06 2.06-.94-2.06-.94-.94-2.06-.94 2.06-2.06.94zm-11 1L8.5 8.5l.94-2.06 2.06-.94-2.06-.94L8.5 2.5l-.94 2.06-2.06.94zm10 10l.94 2.06.94-2.06 2.06-.94-2.06-.94-.94-2.06-.94 2.06-2.06.94z\"/><path d=\"M17.41 7.96l-1.37-1.37c-.4-.4-.92-.59-1.43-.59-.52 0-1.04.2-1.43.59L10.3 9.45l-7.72 7.72c-.78.78-.78 2.05 0 2.83L4 21.41c.39.39.9.59 1.41.59.51 0 1.02-.2 1.41-.59l7.78-7.78 2.81-2.81c.8-.78.8-2.07 0-2.86zM5.41 20L4 18.59l7.72-7.72 1.47 1.35L5.41 20z\"/>\n",
              "  </svg>\n",
              "      </button>\n",
              "      \n",
              "  <style>\n",
              "    .colab-df-container {\n",
              "      display:flex;\n",
              "      flex-wrap:wrap;\n",
              "      gap: 12px;\n",
              "    }\n",
              "\n",
              "    .colab-df-convert {\n",
              "      background-color: #E8F0FE;\n",
              "      border: none;\n",
              "      border-radius: 50%;\n",
              "      cursor: pointer;\n",
              "      display: none;\n",
              "      fill: #1967D2;\n",
              "      height: 32px;\n",
              "      padding: 0 0 0 0;\n",
              "      width: 32px;\n",
              "    }\n",
              "\n",
              "    .colab-df-convert:hover {\n",
              "      background-color: #E2EBFA;\n",
              "      box-shadow: 0px 1px 2px rgba(60, 64, 67, 0.3), 0px 1px 3px 1px rgba(60, 64, 67, 0.15);\n",
              "      fill: #174EA6;\n",
              "    }\n",
              "\n",
              "    [theme=dark] .colab-df-convert {\n",
              "      background-color: #3B4455;\n",
              "      fill: #D2E3FC;\n",
              "    }\n",
              "\n",
              "    [theme=dark] .colab-df-convert:hover {\n",
              "      background-color: #434B5C;\n",
              "      box-shadow: 0px 1px 3px 1px rgba(0, 0, 0, 0.15);\n",
              "      filter: drop-shadow(0px 1px 2px rgba(0, 0, 0, 0.3));\n",
              "      fill: #FFFFFF;\n",
              "    }\n",
              "  </style>\n",
              "\n",
              "      <script>\n",
              "        const buttonEl =\n",
              "          document.querySelector('#df-ed8e3fc6-136a-4dda-b93e-69dca52fee3a button.colab-df-convert');\n",
              "        buttonEl.style.display =\n",
              "          google.colab.kernel.accessAllowed ? 'block' : 'none';\n",
              "\n",
              "        async function convertToInteractive(key) {\n",
              "          const element = document.querySelector('#df-ed8e3fc6-136a-4dda-b93e-69dca52fee3a');\n",
              "          const dataTable =\n",
              "            await google.colab.kernel.invokeFunction('convertToInteractive',\n",
              "                                                     [key], {});\n",
              "          if (!dataTable) return;\n",
              "\n",
              "          const docLinkHtml = 'Like what you see? Visit the ' +\n",
              "            '<a target=\"_blank\" href=https://colab.research.google.com/notebooks/data_table.ipynb>data table notebook</a>'\n",
              "            + ' to learn more about interactive tables.';\n",
              "          element.innerHTML = '';\n",
              "          dataTable['output_type'] = 'display_data';\n",
              "          await google.colab.output.renderOutput(dataTable, element);\n",
              "          const docLink = document.createElement('div');\n",
              "          docLink.innerHTML = docLinkHtml;\n",
              "          element.appendChild(docLink);\n",
              "        }\n",
              "      </script>\n",
              "    </div>\n",
              "  </div>\n",
              "  "
            ]
          },
          "metadata": {},
          "execution_count": 5
        }
      ]
    },
    {
      "cell_type": "code",
      "source": [
        "columns = ['amount', 'original_amount']\n",
        "\n",
        "df.pivot_table(\n",
        "    columns,\n",
        "    [\"fpd30\"],\n",
        "    aggfunc=\"mean\",\n",
        ")\n",
        "\n"
      ],
      "metadata": {
        "colab": {
          "base_uri": "https://localhost:8080/",
          "height": 143
        },
        "id": "pzFovaHmfyd8",
        "outputId": "3ea11722-501a-4775-89e0-6ebd063aa188"
      },
      "execution_count": 47,
      "outputs": [
        {
          "output_type": "execute_result",
          "data": {
            "text/plain": [
              "       amount  original_amount\n",
              "fpd30                         \n",
              "0      981.85           1320.4\n",
              "1      940.86           1317.5"
            ],
            "text/html": [
              "\n",
              "  <div id=\"df-3d686be6-ee37-42a4-b9b8-049122be8c7b\">\n",
              "    <div class=\"colab-df-container\">\n",
              "      <div>\n",
              "<style scoped>\n",
              "    .dataframe tbody tr th:only-of-type {\n",
              "        vertical-align: middle;\n",
              "    }\n",
              "\n",
              "    .dataframe tbody tr th {\n",
              "        vertical-align: top;\n",
              "    }\n",
              "\n",
              "    .dataframe thead th {\n",
              "        text-align: right;\n",
              "    }\n",
              "</style>\n",
              "<table border=\"1\" class=\"dataframe\">\n",
              "  <thead>\n",
              "    <tr style=\"text-align: right;\">\n",
              "      <th></th>\n",
              "      <th>amount</th>\n",
              "      <th>original_amount</th>\n",
              "    </tr>\n",
              "    <tr>\n",
              "      <th>fpd30</th>\n",
              "      <th></th>\n",
              "      <th></th>\n",
              "    </tr>\n",
              "  </thead>\n",
              "  <tbody>\n",
              "    <tr>\n",
              "      <th>0</th>\n",
              "      <td>981.85</td>\n",
              "      <td>1320.4</td>\n",
              "    </tr>\n",
              "    <tr>\n",
              "      <th>1</th>\n",
              "      <td>940.86</td>\n",
              "      <td>1317.5</td>\n",
              "    </tr>\n",
              "  </tbody>\n",
              "</table>\n",
              "</div>\n",
              "      <button class=\"colab-df-convert\" onclick=\"convertToInteractive('df-3d686be6-ee37-42a4-b9b8-049122be8c7b')\"\n",
              "              title=\"Convert this dataframe to an interactive table.\"\n",
              "              style=\"display:none;\">\n",
              "        \n",
              "  <svg xmlns=\"http://www.w3.org/2000/svg\" height=\"24px\"viewBox=\"0 0 24 24\"\n",
              "       width=\"24px\">\n",
              "    <path d=\"M0 0h24v24H0V0z\" fill=\"none\"/>\n",
              "    <path d=\"M18.56 5.44l.94 2.06.94-2.06 2.06-.94-2.06-.94-.94-2.06-.94 2.06-2.06.94zm-11 1L8.5 8.5l.94-2.06 2.06-.94-2.06-.94L8.5 2.5l-.94 2.06-2.06.94zm10 10l.94 2.06.94-2.06 2.06-.94-2.06-.94-.94-2.06-.94 2.06-2.06.94z\"/><path d=\"M17.41 7.96l-1.37-1.37c-.4-.4-.92-.59-1.43-.59-.52 0-1.04.2-1.43.59L10.3 9.45l-7.72 7.72c-.78.78-.78 2.05 0 2.83L4 21.41c.39.39.9.59 1.41.59.51 0 1.02-.2 1.41-.59l7.78-7.78 2.81-2.81c.8-.78.8-2.07 0-2.86zM5.41 20L4 18.59l7.72-7.72 1.47 1.35L5.41 20z\"/>\n",
              "  </svg>\n",
              "      </button>\n",
              "      \n",
              "  <style>\n",
              "    .colab-df-container {\n",
              "      display:flex;\n",
              "      flex-wrap:wrap;\n",
              "      gap: 12px;\n",
              "    }\n",
              "\n",
              "    .colab-df-convert {\n",
              "      background-color: #E8F0FE;\n",
              "      border: none;\n",
              "      border-radius: 50%;\n",
              "      cursor: pointer;\n",
              "      display: none;\n",
              "      fill: #1967D2;\n",
              "      height: 32px;\n",
              "      padding: 0 0 0 0;\n",
              "      width: 32px;\n",
              "    }\n",
              "\n",
              "    .colab-df-convert:hover {\n",
              "      background-color: #E2EBFA;\n",
              "      box-shadow: 0px 1px 2px rgba(60, 64, 67, 0.3), 0px 1px 3px 1px rgba(60, 64, 67, 0.15);\n",
              "      fill: #174EA6;\n",
              "    }\n",
              "\n",
              "    [theme=dark] .colab-df-convert {\n",
              "      background-color: #3B4455;\n",
              "      fill: #D2E3FC;\n",
              "    }\n",
              "\n",
              "    [theme=dark] .colab-df-convert:hover {\n",
              "      background-color: #434B5C;\n",
              "      box-shadow: 0px 1px 3px 1px rgba(0, 0, 0, 0.15);\n",
              "      filter: drop-shadow(0px 1px 2px rgba(0, 0, 0, 0.3));\n",
              "      fill: #FFFFFF;\n",
              "    }\n",
              "  </style>\n",
              "\n",
              "      <script>\n",
              "        const buttonEl =\n",
              "          document.querySelector('#df-3d686be6-ee37-42a4-b9b8-049122be8c7b button.colab-df-convert');\n",
              "        buttonEl.style.display =\n",
              "          google.colab.kernel.accessAllowed ? 'block' : 'none';\n",
              "\n",
              "        async function convertToInteractive(key) {\n",
              "          const element = document.querySelector('#df-3d686be6-ee37-42a4-b9b8-049122be8c7b');\n",
              "          const dataTable =\n",
              "            await google.colab.kernel.invokeFunction('convertToInteractive',\n",
              "                                                     [key], {});\n",
              "          if (!dataTable) return;\n",
              "\n",
              "          const docLinkHtml = 'Like what you see? Visit the ' +\n",
              "            '<a target=\"_blank\" href=https://colab.research.google.com/notebooks/data_table.ipynb>data table notebook</a>'\n",
              "            + ' to learn more about interactive tables.';\n",
              "          element.innerHTML = '';\n",
              "          dataTable['output_type'] = 'display_data';\n",
              "          await google.colab.output.renderOutput(dataTable, element);\n",
              "          const docLink = document.createElement('div');\n",
              "          docLink.innerHTML = docLinkHtml;\n",
              "          element.appendChild(docLink);\n",
              "        }\n",
              "      </script>\n",
              "    </div>\n",
              "  </div>\n",
              "  "
            ]
          },
          "metadata": {},
          "execution_count": 47
        }
      ]
    }
  ]
}